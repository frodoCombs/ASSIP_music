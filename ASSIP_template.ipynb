{
 "cells": [
  {
   "cell_type": "code",
   "execution_count": 1,
   "metadata": {},
   "outputs": [],
   "source": [
    "from synthesizer import Player, Synthesizer, Waveform, Writer\n",
    "import numpy as np\n",
    "import pandas as pd\n",
    "import matplotlib.pyplot as plt\n",
    "import scipy.signal\n",
    "import random"
   ]
  },
  {
   "cell_type": "code",
   "execution_count": 3,
   "metadata": {},
   "outputs": [],
   "source": [
    "aa_notes = pd.read_csv('aa_notes.csv', sep=',',header=0)\n",
    "# Generate amino acid note\n",
    "def aa_note(aa,length):\n",
    "    row = np.where(aa_notes['Amino Acid'] == aa)[0][0]\n",
    "    wave = np.zeros(int(44100 * float(length)))\n",
    "    harm = 0\n",
    "    for freq in aa_notes.iloc[row,1:]:\n",
    "        if freq == 0:\n",
    "            break\n",
    "        else:\n",
    "            volume = np.exp(-harm)\n",
    "            phases = np.cumsum(2.0 * np.pi * freq / 44100 * np.ones(int(44100 * float(length))))\n",
    "            wave += np.sin(phases) * volume\n",
    "        harm += 1\n",
    "    return wave\n",
    "  \n",
    "# Filter sound wave with simple envelope\n",
    "def envelope(unfiltered_wave,length):\n",
    "    #Attack\n",
    "    attack_phases = np.cumsum(2.0 * np.pi * (1/2)*length / 44100 * np.ones(int(44100 * float(length))))\n",
    "    attack = np.log10(attack_phases)\n",
    "    attack = (attack - attack.min())/(attack.max()-attack.min())\n",
    "    #Sustain\n",
    "    sus_phases = np.cumsum(2.0 * np.pi * (1/(2**length)) / 44100 * np.ones(int(44100 * float(length))))\n",
    "    sus = np.sin(sus_phases)*0.5\n",
    "    #Release\n",
    "    rel_phases = np.cumsum(2.0 * np.pi * 1/(4*length) / 44100 * np.ones(int(44100 * float(length))))\n",
    "    rel = np.cos(rel_phases)*0.5\n",
    "\n",
    "    return (((unfiltered_wave*attack)+(unfiltered_wave*sus))*rel)"
   ]
  },
  {
   "cell_type": "code",
   "execution_count": 4,
   "metadata": {},
   "outputs": [],
   "source": [
    "# Protein Sequences\n",
    "seq1 = 'MQIFVKTLT'\n",
    "seq2 = 'KEGIPPKEG'"
   ]
  },
  {
   "cell_type": "code",
   "execution_count": 6,
   "metadata": {},
   "outputs": [],
   "source": [
    "# Duration of each note\n",
    "unit_length = 0.2\n",
    "# Generate melodies\n",
    "melody1 = []\n",
    "for i in range(len(seq1)):\n",
    "    residue = seq1[i]   \n",
    "    sound_wave = aa_note(residue,unit_length)\n",
    "    env_wave = envelope(sound_wave,unit_length)\n",
    "    melody1 = melody1 + env_wave.tolist()\n",
    "melody1 = np.asarray(melody1)\n",
    "melody2 = []\n",
    "for i in range(len(seq2)):\n",
    "    residue = seq2[i]   \n",
    "    sound_wave = aa_note(residue,unit_length)\n",
    "    env_wave = envelope(sound_wave,unit_length)\n",
    "    melody2 = melody2 + env_wave.tolist()\n",
    "melody2 = np.asarray(melody2)"
   ]
  },
  {
   "cell_type": "code",
   "execution_count": 7,
   "metadata": {},
   "outputs": [],
   "source": [
    "from synthesizer import Player, Synthesizer, Writer\n",
    "#open up stream to play music\n",
    "player = Player()\n",
    "player.open_stream()"
   ]
  },
  {
   "cell_type": "code",
   "execution_count": 8,
   "metadata": {},
   "outputs": [],
   "source": [
    "complete_music = melody1 + melody2\n",
    "#rescale to a bit less thanrange [-1,1]\n",
    "complete_music = 1.8*(complete_music - complete_music.min())/np.ptp(complete_music)-0.9"
   ]
  },
  {
   "cell_type": "code",
   "execution_count": 9,
   "metadata": {},
   "outputs": [],
   "source": [
    "player.play_wave(complete_music)"
   ]
  }
 ],
 "metadata": {
  "kernelspec": {
   "display_name": "Python 3",
   "language": "python",
   "name": "python3"
  },
  "language_info": {
   "codemirror_mode": {
    "name": "ipython",
    "version": 3
   },
   "file_extension": ".py",
   "mimetype": "text/x-python",
   "name": "python",
   "nbconvert_exporter": "python",
   "pygments_lexer": "ipython3",
   "version": "3.7.6"
  }
 },
 "nbformat": 4,
 "nbformat_minor": 4
}
